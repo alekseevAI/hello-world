{
 "cells": [
  {
   "cell_type": "code",
   "execution_count": 33,
   "metadata": {},
   "outputs": [
    {
     "name": "stdout",
     "output_type": "stream",
     "text": [
      "[[0.50379346 0.76833202 0.49815554]\n",
      " [0.55229625 0.87649655 0.37201348]\n",
      " [0.11528498 0.02554583 0.38242564]\n",
      " [0.25686775 0.8702109  0.24533288]\n",
      " [0.32874801 0.52869503 0.07929332]\n",
      " [0.31877238 0.76720981 0.52696123]\n",
      " [0.57282546 0.40308501 0.54216067]\n",
      " [0.22650126 0.34839817 0.74292113]\n",
      " [0.88374724 0.94649435 0.3212804 ]\n",
      " [0.01181837 0.56480996 0.25532449]]\n",
      "0.4981555442107293\n",
      "0.5522962549326058\n",
      "0.3824256425746051\n",
      "0.256867750966171\n",
      "0.5286950345244594\n",
      "0.5269612285585057\n",
      "0.5421606747288173\n",
      "0.3483981677617599\n",
      "0.3212804047862996\n",
      "0.5648099592929717\n"
     ]
    }
   ],
   "source": [
    "import numpy as np\n",
    "import numpy.random as rand\n",
    "a = np.random.sample((10, 3))\n",
    "print(a)\n",
    "v = 0.5\n",
    "b = (np.abs(a-v)).argmin(axis = 1)\n",
    "i = 0\n",
    "while i < 10:\n",
    "    print(a[i][b[i]])\n",
    "    i += 1\n"
   ]
  },
  {
   "cell_type": "code",
   "execution_count": 45,
   "metadata": {},
   "outputs": [
    {
     "name": "stdout",
     "output_type": "stream",
     "text": [
      "[[0.57811791 0.52729909 0.00987525 0.73758188 0.3430424  0.35326238]\n",
      " [0.70561402 0.00757121 0.68353194 0.59307438 0.33822637 0.48769605]\n",
      " [0.82727205 0.85852961 0.20509105 0.86763556 0.00118618 0.31240702]\n",
      " [0.04201254 0.50991046 0.25372784 0.69288261 0.33275083 0.33396147]\n",
      " [0.02135074 0.7318288  0.31637015 0.99613625 0.76821342 0.2941337 ]\n",
      " [0.46748616 0.89163185 0.30960671 0.28585473 0.90826753 0.76003246]]\n",
      "\n",
      " 119.39535848155819\n",
      "\n",
      " 371.8973202869471\n",
      "\n",
      " 311.0931377785636\n",
      "\n",
      " 7.57463682983491\n",
      "\n",
      " 2637.0639962587184\n",
      "\n",
      " 12.317117813489407\n"
     ]
    }
   ],
   "source": [
    "c = rand.random((6,6))\n",
    "print(c)\n",
    "i = 0\n",
    "while i < 6:\n",
    "    print(\"\\n\",np.sum(c[i])/c[c.argmin(axis = 0)[i]][i])\n",
    "    i += 1"
   ]
  },
  {
   "cell_type": "code",
   "execution_count": 48,
   "metadata": {},
   "outputs": [
    {
     "name": "stdout",
     "output_type": "stream",
     "text": [
      "5\n"
     ]
    }
   ],
   "source": [
    "x = np.array([6, 2, 0, 3, 0, 0, 5, 7, 0])\n",
    "x = x.tolist()\n",
    "i = 0\n",
    "max = 0\n",
    "while i < 8:\n",
    "    try:\n",
    "        i = x.index(0, i, 8) + 1\n",
    "    except:\n",
    "        break\n",
    "    if i == 8 :\n",
    "        break\n",
    "    if max < x[i]: \n",
    "        max = x[i]\n",
    "print(max)"
   ]
  },
  {
   "cell_type": "code",
   "execution_count": 49,
   "metadata": {},
   "outputs": [
    {
     "name": "stdout",
     "output_type": "stream",
     "text": [
      "[1. 1. 1. 1. 1. 1. 1. 1. 1. 1.]\n",
      "[2. 2. 2. 2. 1. 4. 1. 1. 2. 1.]\n"
     ]
    }
   ],
   "source": [
    "x = np.ones(10)\n",
    "print(x)\n",
    "index = np.array([0, 1, 2, 3, 5, 5, 5, 8])\n",
    "j = 0\n",
    "while j < 8:\n",
    "    x[index[j]] += 1\n",
    "    j += 1\n",
    "print(x)"
   ]
  },
  {
   "cell_type": "code",
   "execution_count": 55,
   "metadata": {},
   "outputs": [
    {
     "name": "stdout",
     "output_type": "stream",
     "text": [
      "Введите N: 10\n",
      "{0: [0], 1: [1, 10], 2: [2, 11, 20], 3: [3, 12, 21, 30], 4: [4, 13, 22, 31, 40], 5: [5, 14, 23, 32, 41, 50], 6: [6, 15, 24, 33, 42, 51, 60], 7: [7, 16, 25, 34, 43, 52, 61, 70], 8: [8, 17, 26, 35, 44, 53, 62, 71, 80], 9: [9, 18, 27, 36, 45, 54, 63, 72, 81, 90], 10: [19, 28, 37, 46, 55, 64, 73, 82, 91], 11: [29, 38, 47, 56, 65, 74, 83, 92], 12: [39, 48, 57, 66, 75, 84, 93], 13: [49, 58, 67, 76, 85, 94], 14: [59, 68, 77, 86, 95], 15: [69, 78, 87, 96], 16: [79, 88, 97], 17: [89, 98], 18: [99]}\n"
     ]
    }
   ],
   "source": [
    "N = input (\"Введите N: \")\n",
    "N = int(N)\n",
    "a = np.arange(N * N).reshape(N, N)\n",
    "d = {}\n",
    "i = 0\n",
    "while i < 2*N - 1:\n",
    "    d[i] = []\n",
    "    i += 1\n",
    "i = 0\n",
    "while i < N:\n",
    "    j = 0\n",
    "    while j < N:\n",
    "        d.get(i + j).append(a[i][j])\n",
    "        j += 1\n",
    "    i += 1\n",
    "print(d)"
   ]
  },
  {
   "cell_type": "code",
   "execution_count": null,
   "metadata": {},
   "outputs": [],
   "source": []
  }
 ],
 "metadata": {
  "kernelspec": {
   "display_name": "Python 3",
   "language": "python",
   "name": "python3"
  },
  "language_info": {
   "codemirror_mode": {
    "name": "ipython",
    "version": 3
   },
   "file_extension": ".py",
   "mimetype": "text/x-python",
   "name": "python",
   "nbconvert_exporter": "python",
   "pygments_lexer": "ipython3",
   "version": "3.7.1"
  }
 },
 "nbformat": 4,
 "nbformat_minor": 2
}
