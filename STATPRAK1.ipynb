{
 "cells": [
  {
   "cell_type": "code",
   "execution_count": 2,
   "metadata": {},
   "outputs": [
    {
     "name": "stdout",
     "output_type": "stream",
     "text": [
      "What's your name: Aleksey\n",
      "Your name is Aleksey\n",
      "How old are you: 19\n",
      "You will be 100 years old in 2099\n",
      "Give a number: 5\n",
      "You will be 100 years old in2099\n",
      "You will be 100 years old in2099\n",
      "You will be 100 years old in2099\n",
      "You will be 100 years old in2099\n",
      "You will be 100 years old in2099\n"
     ]
    }
   ],
   "source": [
    "name = input(\"What's your name: \")\n",
    "print(\"Your name is \" + name)\n",
    "age = input(\"How old are you: \")\n",
    "age = int(age)\n",
    "year = str(2018 + 100 - age)\n",
    "print (\"You will be 100 years old in \" + year)\n",
    "num = input (\"Give a number: \")\n",
    "num = int(num)\n",
    "i = 0\n",
    "while i < num:\n",
    "    print (\"You will be 100 years old in\" + year)\n",
    "    i += 1"
   ]
  },
  {
   "cell_type": "code",
   "execution_count": 3,
   "metadata": {},
   "outputs": [
    {
     "name": "stdout",
     "output_type": "stream",
     "text": [
      "Number of fib numbers:20\n",
      "[1, 1, 2, 3, 5, 8, 13, 21, 34, 55, 89, 144, 233, 377, 610, 987, 1597, 2584, 4181, 6765]\n"
     ]
    }
   ],
   "source": [
    "def fib():\n",
    "    n = int(input(\"Number of fib numbers:\"))\n",
    "    if n == 0:\n",
    "        f = []\n",
    "    elif n == 1:\n",
    "        f = [1]\n",
    "    elif n == 2:\n",
    "        f = [1,1]\n",
    "    elif n > 2:\n",
    "        f = [1,1]\n",
    "        i = 1\n",
    "        while i < n - 1:\n",
    "            f.append(f[i - 1] + f[i])\n",
    "            i += 1\n",
    "        return f\n",
    "print (fib())"
   ]
  },
  {
   "cell_type": "code",
   "execution_count": 13,
   "metadata": {},
   "outputs": [
    {
     "name": "stdout",
     "output_type": "stream",
     "text": [
      "Your number: 3\n",
      "too low\n",
      "Your number: 5\n",
      "too low\n",
      "Your number: 7\n",
      "too low\n",
      "Your number: 9\n",
      "too high\n",
      "Your number: 8\n",
      "exactly right\n",
      "number of attempts  5\n",
      "Your number: exit\n"
     ]
    }
   ],
   "source": [
    "import random\n",
    "a = random.randint(1, 9)\n",
    "i = 1\n",
    "c = 0\n",
    "while i > 0:\n",
    "    n = input(\"Your number: \")\n",
    "    c += 1\n",
    "    if n == \"exit\":\n",
    "        break\n",
    "    else:\n",
    "        n = int(n)\n",
    "        if n > a:\n",
    "            print (\"too high\")\n",
    "        elif n < a:\n",
    "            print (\"too low\")\n",
    "        elif n == a:\n",
    "            print (\"exactly right\")\n",
    "            print (\"number of attempts \", c)\n",
    "        else:\n",
    "            input(\"What???\")\n",
    "        \n"
   ]
  },
  {
   "cell_type": "code",
   "execution_count": null,
   "metadata": {},
   "outputs": [],
   "source": []
  }
 ],
 "metadata": {
  "kernelspec": {
   "display_name": "Python 3",
   "language": "python",
   "name": "python3"
  },
  "language_info": {
   "codemirror_mode": {
    "name": "ipython",
    "version": 3
   },
   "file_extension": ".py",
   "mimetype": "text/x-python",
   "name": "python",
   "nbconvert_exporter": "python",
   "pygments_lexer": "ipython3",
   "version": "3.7.1"
  }
 },
 "nbformat": 4,
 "nbformat_minor": 2
}
